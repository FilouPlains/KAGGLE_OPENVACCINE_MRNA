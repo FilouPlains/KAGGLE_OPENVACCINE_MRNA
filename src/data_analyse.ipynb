{
 "cells": [
  {
   "cell_type": "markdown",
   "metadata": {},
   "source": [
    "# DATA ANALYSES\n",
    "\n",
    "In this notebook, a quick analyse of the data is done.\n",
    "\n",
    "## Importation"
   ]
  },
  {
   "cell_type": "code",
   "execution_count": 40,
   "metadata": {
    "tags": [
     "hide-output"
    ]
   },
   "outputs": [],
   "source": [
    "# Package importation.\n",
    "import matplotlib.pyplot as plot\n",
    "import matplotlib.pyplot as plt\n",
    "\n",
    "import numpy as np\n",
    "import pandas as pd\n",
    "\n",
    "from seaborn import heatmap\n",
    "from matplotlib import colors\n",
    "from matplotlib.ticker import PercentFormatter"
   ]
  },
  {
   "cell_type": "code",
   "execution_count": 2,
   "metadata": {},
   "outputs": [],
   "source": [
    "# Data importation.\n",
    "data_test = np.load(\"../data/test.npy\", allow_pickle=True)\n",
    "data_train = np.load(\"../data/training.npy\", allow_pickle=True)"
   ]
  },
  {
   "cell_type": "code",
   "execution_count": 39,
   "metadata": {
    "tags": []
   },
   "outputs": [
    {
     "name": "stdout",
     "output_type": "stream",
     "text": [
      "Data test's tail: [['id_ffda94f24'\n",
      "  'GGAAAAACCAAUUGCUAUUAAAGGUUCCUUUGUUCGCUAAGUCCAACUACUAAACUGGGCGAGAUUAUGAAGGGCCUUGAGCAUCUGGAUACAGAGUGUUCGCACUCUGAAAAGAAACAACAACAACAAC'\n",
      "  '.......(((..((((....(((((.(((((((...((..(((((..........))))).))...)))))))))))).))))..)))...(((((((....))))))).....................'\n",
      "  'EEEEEEESSSIISSSSIIIISSSSSBSSSSSSSIIISSIISSSSSHHHHHHHHHHSSSSSISSIIISSSSSSSSSSSSISSSSIISSSXXXSSSSSSSHHHHSSSSSSSEEEEEEEEEEEEEEEEEEEEE'\n",
      "  91.0]]\n"
     ]
    }
   ],
   "source": [
    "print(\"Data test's tail:\", data_test[-1:,])"
   ]
  },
  {
   "cell_type": "code",
   "execution_count": 4,
   "metadata": {},
   "outputs": [
    {
     "name": "stdout",
     "output_type": "stream",
     "text": [
      "Data train's tail: [['id_fff546103'\n",
      "  'GGAAAGCUAGGACGUGGGAGCGUAGCUCUCCACACGGGUACGCCAAAGGUGUACACCGGGUCACUAGCGCCAUGCUUCGGCAUGGCAAAAGAAACAACAACAACAAC'\n",
      "  '.....((((((((((((((((...)))).)))).((((((((((...))))))).))).))).)))))(((((((....))))))).....................'\n",
      "  'EEEEESSSSSSSSSSSSSSSSHHHSSSSBSSSSMSSSSSSSSSSHHHSSSSSSSBSSSMSSSBSSSSSSSSSSSSHHHHSSSSSSSEEEEEEEEEEEEEEEEEEEEE'\n",
      "  6.545 1.0 68\n",
      "  array([ 1.0102,  1.7928,  1.9228,  0.9649,  0.5666,  0.2154,  0.0455,\n",
      "          0.0127,  0.02  ,  0.0254,  0.2769,  0.2242,  1.0684,  0.4977,\n",
      "          0.2255,  0.0621,  0.0507,  0.095 ,  0.056 ,  0.0444,  0.1978,\n",
      "          2.0917,  1.2969,  0.553 ,  0.1053,  0.1784,  0.0441,  0.4684,\n",
      "          1.4506,  0.2059,  0.1908,  0.4826,  0.1558,  0.4904,  0.0243,\n",
      "          0.0074,  0.    ,  0.0231,  0.0242,  0.    , -0.0105,  0.0177,\n",
      "          0.0877,  0.2689,  1.4352,  1.9672,  0.2942,  0.1248,  0.0779,\n",
      "          0.0294,  0.0248,  0.0429,  0.0357,  0.192 ,  1.1468,  0.0057,\n",
      "          0.022 ,  0.0652,  0.4332,  0.4378,  0.2302,  0.4202,  0.6952,\n",
      "          0.0272,  0.0382,  0.0381, -0.0066,  0.0706])\n",
      "  array([0.1782, 0.2043, 0.1842, 0.1324, 0.1019, 0.0705, 0.0396, 0.026 ,\n",
      "         0.0325, 0.0311, 0.0736, 0.0675, 0.1274, 0.0904, 0.0619, 0.0402,\n",
      "         0.0378, 0.0459, 0.0405, 0.0337, 0.0579, 0.1559, 0.1194, 0.0851,\n",
      "         0.043 , 0.0523, 0.029 , 0.0733, 0.1176, 0.0486, 0.0482, 0.0687,\n",
      "         0.048 , 0.073 , 0.0245, 0.0157, 0.0091, 0.0299, 0.0245, 0.0091,\n",
      "         0.0147, 0.0305, 0.0331, 0.0527, 0.107 , 0.1178, 0.057 , 0.0352,\n",
      "         0.0313, 0.0197, 0.0238, 0.0282, 0.0237, 0.0419, 0.0867, 0.0168,\n",
      "         0.0205, 0.0248, 0.0584, 0.059 , 0.043 , 0.0543, 0.0655, 0.0267,\n",
      "         0.0219, 0.0218, 0.022 , 0.0287])\n",
      "  array([1.4842, 2.4813, 1.737 , 1.2082, 0.959 , 0.3437, 0.2989, 0.1045,\n",
      "         0.1896, 0.1909, 0.2672, 0.3578, 1.1362, 0.9259, 0.2274, 0.1294,\n",
      "         0.1382, 0.2259, 0.1113, 0.1374, 0.1746, 0.9344, 0.4189, 0.9978,\n",
      "         0.1384, 0.5502, 0.0621, 0.7759, 0.188 , 0.1437, 0.2919, 0.167 ,\n",
      "         0.3344, 0.5944, 0.0739, 0.0644, 0.1151, 0.2115, 0.0589, 0.0375,\n",
      "         0.0671, 0.1958, 0.1095, 0.2298, 0.6555, 0.9452, 1.6634, 0.1918,\n",
      "         0.2757, 0.041 , 0.3956, 0.1422, 0.0964, 0.1986, 0.5308, 0.1111,\n",
      "         0.0209, 0.19  , 0.638 , 1.3706, 0.6111, 0.7013, 0.5778, 0.5059,\n",
      "         0.2025, 0.1827, 0.3261, 0.4529])\n",
      "  array([0.3272, 0.3558, 0.2744, 0.2226, 0.1921, 0.1262, 0.1158, 0.0785,\n",
      "         0.0967, 0.0953, 0.1082, 0.1191, 0.1848, 0.1623, 0.0893, 0.0731,\n",
      "         0.0744, 0.088 , 0.069 , 0.0717, 0.0777, 0.1508, 0.1042, 0.1472,\n",
      "         0.0655, 0.1097, 0.0468, 0.122 , 0.0697, 0.0599, 0.079 , 0.0623,\n",
      "         0.0838, 0.1042, 0.0453, 0.0419, 0.0513, 0.067 , 0.0413, 0.0344,\n",
      "         0.0439, 0.0647, 0.0488, 0.0653, 0.0999, 0.1133, 0.1374, 0.0525,\n",
      "         0.0607, 0.0287, 0.0692, 0.0466, 0.039 , 0.0514, 0.0763, 0.0396,\n",
      "         0.0236, 0.0474, 0.0805, 0.107 , 0.0719, 0.0747, 0.0672, 0.0626,\n",
      "         0.0411, 0.0391, 0.0509, 0.0565])\n",
      "  array([2.3588, 2.2161, 1.2522, 0.7875, 0.593 , 0.2831, 0.2914, 0.1244,\n",
      "         0.1654, 0.2289, 0.2046, 0.134 , 1.0971, 0.4215, 0.2673, 0.0968,\n",
      "         0.0883, 0.2365, 0.1909, 0.0985, 0.082 , 0.3739, 0.2946, 0.3751,\n",
      "         0.2149, 0.4052, 0.1642, 1.4043, 0.2701, 0.4023, 0.314 , 0.1327,\n",
      "         0.5395, 0.9463, 0.2429, 0.0423, 0.0986, 0.0809, 0.0447, 0.014 ,\n",
      "         0.0613, 0.0967, 0.0974, 0.1964, 0.287 , 0.2483, 0.7343, 0.2017,\n",
      "         0.1631, 0.0397, 0.2146, 0.0583, 0.0806, 0.1995, 0.7123, 0.0976,\n",
      "         0.0399, 0.1846, 0.4377, 0.5567, 0.2499, 0.6468, 0.5538, 0.4998,\n",
      "         0.3057, 0.1642, 0.1654, 0.484 ])\n",
      "  array([0.2958, 0.2814, 0.1941, 0.1575, 0.132 , 0.1032, 0.0942, 0.0658,\n",
      "         0.0772, 0.0819, 0.0854, 0.0752, 0.1651, 0.1129, 0.0843, 0.0635,\n",
      "         0.0618, 0.0838, 0.0807, 0.0578, 0.0543, 0.1103, 0.0893, 0.1129,\n",
      "         0.082 , 0.1036, 0.0673, 0.1632, 0.0906, 0.093 , 0.0872, 0.0601,\n",
      "         0.1138, 0.1424, 0.0775, 0.0402, 0.0526, 0.0657, 0.0478, 0.0303,\n",
      "         0.0555, 0.0705, 0.052 , 0.0712, 0.0902, 0.0904, 0.1312, 0.0703,\n",
      "         0.0685, 0.0379, 0.0742, 0.0569, 0.0529, 0.0722, 0.1164, 0.0549,\n",
      "         0.0444, 0.0622, 0.1017, 0.112 , 0.0777, 0.109 , 0.1022, 0.0996,\n",
      "         0.076 , 0.0611, 0.0719, 0.0936])\n",
      "  array([ 1.3281,  2.3854,  2.0464,  1.2384,  0.631 ,  0.1848,  0.086 ,\n",
      "          0.1073,  0.0396,  0.1066,  0.3253,  0.2474,  0.7956,  0.294 ,\n",
      "          0.1266,  0.0499,  0.0358,  0.1053,  0.0431,  0.0694,  0.0968,\n",
      "          0.5889,  0.3779,  0.726 ,  0.1404,  0.221 ,  0.0252,  0.5719,\n",
      "          0.0975,  0.0975,  0.1512,  0.1922,  0.2187,  0.5194,  0.0517,\n",
      "          0.0116,  0.0462,  0.0214,  0.0399,  0.023 , -0.0124,  0.0494,\n",
      "          0.0343,  0.2431,  0.6946,  0.8972,  1.0642,  0.1539,  0.127 ,\n",
      "          0.0199,  0.0867,  0.031 ,  0.053 ,  0.1054,  0.3139,  0.0132,\n",
      "          0.0132,  0.077 ,  0.2566,  1.004 ,  0.3134,  0.3334,  0.3668,\n",
      "          0.287 ,  0.2022,  0.2047,  0.2447,  0.1802])\n",
      "  array([0.2206, 0.254 , 0.2109, 0.1636, 0.119 , 0.076 , 0.0546, 0.0562,\n",
      "         0.0436, 0.0559, 0.0876, 0.0785, 0.1268, 0.0845, 0.0566, 0.0439,\n",
      "         0.0403, 0.0549, 0.0444, 0.0453, 0.0508, 0.1082, 0.0855, 0.1157,\n",
      "         0.0588, 0.0697, 0.0311, 0.0974, 0.0543, 0.0471, 0.0571, 0.0604,\n",
      "         0.0694, 0.0959, 0.0395, 0.024 , 0.0352, 0.0393, 0.0367, 0.0284,\n",
      "         0.0188, 0.0463, 0.0319, 0.0656, 0.1023, 0.1125, 0.1203, 0.0515,\n",
      "         0.0494, 0.0248, 0.0438, 0.0361, 0.0361, 0.0462, 0.0693, 0.0263,\n",
      "         0.0263, 0.0373, 0.0667, 0.1099, 0.0656, 0.0675, 0.0694, 0.0638,\n",
      "         0.052 , 0.052 , 0.0595, 0.0515])\n",
      "  array([ 0.7043,  1.4864,  1.3035,  1.2176,  0.829 ,  0.2713,  0.3197,\n",
      "          0.2821,  0.1474,  0.1567,  0.335 ,  0.1127,  0.9947,  0.3333,\n",
      "          0.2115,  0.0956,  0.1162,  0.0426,  0.2409,  0.0417,  0.2278,\n",
      "          0.2796,  0.4162,  0.8224,  0.2165,  0.3795,  0.0583,  0.6589,\n",
      "          0.056 ,  0.114 ,  0.3851,  0.0938,  0.2488,  0.3996,  0.1914,\n",
      "          0.0548,  0.0547,  0.0337,  0.0629,  0.0182,  0.0167, -0.0307,\n",
      "          0.0724,  0.2241,  0.5008,  0.4046,  1.1042,  0.1254,  0.132 ,\n",
      "          0.0168,  0.1314,  0.0545,  0.0237,  0.2295,  0.5334,  0.0393,\n",
      "          0.088 ,  0.0975,  0.3025,  0.39  ,  0.1451,  0.461 ,  0.4242,\n",
      "          0.182 ,  0.2038,  0.112 ,  0.1186,  0.3013])\n",
      "  array([0.2379, 0.2759, 0.2216, 0.2065, 0.1688, 0.1134, 0.1111, 0.1029,\n",
      "         0.0843, 0.0822, 0.1135, 0.0799, 0.1775, 0.116 , 0.0886, 0.0711,\n",
      "         0.0752, 0.0577, 0.0976, 0.0513, 0.0899, 0.1111, 0.115 , 0.1591,\n",
      "         0.091 , 0.112 , 0.054 , 0.1336, 0.0684, 0.0663, 0.1068, 0.0615,\n",
      "         0.0983, 0.1182, 0.0813, 0.0508, 0.0508, 0.062 , 0.0579, 0.0376,\n",
      "         0.0498, 0.0481, 0.0552, 0.0851, 0.1206, 0.1142, 0.1665, 0.0675,\n",
      "         0.0713, 0.035 , 0.071 , 0.0602, 0.0447, 0.0842, 0.1167, 0.0486,\n",
      "         0.0594, 0.0569, 0.0996, 0.1099, 0.0731, 0.1078, 0.1039, 0.0809,\n",
      "         0.0748, 0.0612, 0.0723, 0.0892])                               ]]\n"
     ]
    }
   ],
   "source": [
    "print(\"Data train's tail:\", data_train[-1:,])"
   ]
  },
  {
   "cell_type": "markdown",
   "metadata": {},
   "source": [
    "## Description of the dataset\n",
    "\n",
    "There's is do dataset: one for train a neural network and one for test it. Originally, data wasn't in a format proper for a easy manipulation. So they had written in an `.npy` format (*compile numpy array*). So here is given all information about the data.\n",
    "\n",
    "> **NOTE :** All given descriptors are in the order. In other word, accessing to the column \"0\" correspond to the first line in given table...\n",
    "\n",
    "### TEST SET\n",
    "\n",
    "| **Descriptor** | **Signification**                                           |\n",
    "| :------------: | :---------------------------------------------------------- |\n",
    "|   `Sequence`   | The mRNA sequence.                                          |\n",
    "|  `Structure`   | The mRNA structure. Which base are implied in a loop.       |\n",
    "|  `Loop type`   | What is the type of loop.                                   |\n",
    "|    `Score`     | Number of positions used for scoring with predicted values. |\n",
    "\n",
    "### TRAIN SET\n",
    "\n",
    "|        **Descriptor**        | **Signification**                                            |\n",
    "| :--------------------------: | :----------------------------------------------------------- |\n",
    "|          `Sequence`          | The mRNA sequence.                                           |\n",
    "|         `Structure`          | The mRNA structure. Which base are implied in a loop.        |\n",
    "|         `Loop type`          | What is the type of loop.                                    |\n",
    "|           `Noise`            | Statistic error, on 68 nucleotide, of all tested conditions. |\n",
    "|         `Filter SN`          | Indicates if the sample passed filters.                      |\n",
    "|           `Score`            | Number of positions used for scoring with predicted values.  |\n",
    "|         `Reactivity`         | Secondary structure probability for a given base.            |\n",
    "| `Error link to \"reactivity\"` | Error [+/-].                                                 |\n",
    "|         `Mg + pH 10`         | Probability of degradation for a given base.                 |\n",
    "| `Error link to \"Mg + pH 10\"` | Error [+/-].                                                 |\n",
    "|           `pH 10`            | Probability of degradation for a given base.                 |\n",
    "|   `Error link to \"pH 10\"`    | Error [+/-].                                                 |\n",
    "|         `Mg + 50°C`          | Probability of degradation for a given base.                 |\n",
    "| `Error link to \"Mg + 50°C\"`  | Error [+/-].                                                 |\n",
    "|            `50°C`            | Probability of degradation for a given base.                 |\n",
    "|    `Error link to \"50°C\"`    | Error [+/-].                                                |\n",
    "\n",
    "### Other data not input\n",
    "\n",
    "There's data that has not been input into any dataset. For instance, the `Sequence length` is not given here, as far as a simple:\n",
    "\n",
    "```python\n",
    "len(data_test[1,1])\n",
    "```\n",
    "\n",
    "Give the good output, without flooding the dataset. `Index` is also not given here, because:\n",
    "\n",
    "```python\n",
    "data_test[i,]\n",
    "```\n",
    "\n",
    "Line `i` give the index."
   ]
  },
  {
   "cell_type": "markdown",
   "metadata": {},
   "source": [
    "## Data analyses\n",
    "\n",
    "### Creating and checking dataframe with `Pandas`"
   ]
  },
  {
   "cell_type": "code",
   "execution_count": 5,
   "metadata": {},
   "outputs": [],
   "source": [
    "# Dataframing the train dataset.\n",
    "col = [\n",
    "    \"seq_id\",\n",
    "    \"sequence\",\n",
    "    \"structure\",\n",
    "    \"loop_type\",\n",
    "    \"noise\",\n",
    "    \"sn_filter\",\n",
    "    \"score\",\n",
    "    \"reactivity\",\n",
    "    \"E_reactivity\",\n",
    "    \"mg_ph10\",\n",
    "    \"E_mg_ph10\",\n",
    "    \"ph10\",\n",
    "    \"E_ph10\",\n",
    "    \"mg_c50\",\n",
    "    \"E_mg_c50\",\n",
    "    \"c50\",\n",
    "    \"E_c50\",\n",
    "]\n",
    "\n",
    "train_set = pd.DataFrame(data_train, columns=col)\n",
    "\n",
    "# Dataframing the train dataset.\n",
    "col = [\n",
    "    \"seq_id\",\n",
    "    \"sequence\",\n",
    "    \"structure\",\n",
    "    \"loop_type\",\n",
    "    \"score\"\n",
    "]\n",
    "\n",
    "test_set = pd.DataFrame(data_test, columns=col)"
   ]
  },
  {
   "cell_type": "code",
   "execution_count": 6,
   "metadata": {},
   "outputs": [
    {
     "name": "stdout",
     "output_type": "stream",
     "text": [
      "Train dataset header:\n"
     ]
    },
    {
     "data": {
      "text/html": [
       "<div>\n",
       "<style scoped>\n",
       "    .dataframe tbody tr th:only-of-type {\n",
       "        vertical-align: middle;\n",
       "    }\n",
       "\n",
       "    .dataframe tbody tr th {\n",
       "        vertical-align: top;\n",
       "    }\n",
       "\n",
       "    .dataframe thead th {\n",
       "        text-align: right;\n",
       "    }\n",
       "</style>\n",
       "<table border=\"1\" class=\"dataframe\">\n",
       "  <thead>\n",
       "    <tr style=\"text-align: right;\">\n",
       "      <th></th>\n",
       "      <th>seq_id</th>\n",
       "      <th>sequence</th>\n",
       "      <th>structure</th>\n",
       "      <th>loop_type</th>\n",
       "      <th>noise</th>\n",
       "      <th>sn_filter</th>\n",
       "      <th>score</th>\n",
       "      <th>reactivity</th>\n",
       "      <th>E_reactivity</th>\n",
       "      <th>mg_ph10</th>\n",
       "      <th>E_mg_ph10</th>\n",
       "      <th>ph10</th>\n",
       "      <th>E_ph10</th>\n",
       "      <th>mg_c50</th>\n",
       "      <th>E_mg_c50</th>\n",
       "      <th>c50</th>\n",
       "      <th>E_c50</th>\n",
       "    </tr>\n",
       "  </thead>\n",
       "  <tbody>\n",
       "    <tr>\n",
       "      <th>0</th>\n",
       "      <td>id_001f94081</td>\n",
       "      <td>GGAAAAGCUCUAAUAACAGGAGACUAGGACUACGUAUUUCUAGGUA...</td>\n",
       "      <td>.....((((((.......)))).)).((.....((..((((((......</td>\n",
       "      <td>EEEEESSSSSSHHHHHHHSSSSBSSXSSIIIIISSIISSSSSSHHH...</td>\n",
       "      <td>6.894</td>\n",
       "      <td>1.0</td>\n",
       "      <td>68</td>\n",
       "      <td>[0.3297, 1.5693, 1.1227, 0.8686, 0.7217, 0.438...</td>\n",
       "      <td>[0.1359, 0.207, 0.1633, 0.1452, 0.1314, 0.105,...</td>\n",
       "      <td>[0.7556, 2.983, 0.2526, 1.3789, 0.6376, 0.3313...</td>\n",
       "      <td>[0.2613, 0.3842, 0.1372, 0.2531, 0.1798, 0.137...</td>\n",
       "      <td>[2.3375, 3.506, 0.3008, 1.0108, 0.2635, 0.3403...</td>\n",
       "      <td>[0.2631, 0.286, 0.0964, 0.1574, 0.1, 0.1019, 0...</td>\n",
       "      <td>[0.3581, 2.9683, 0.2589, 1.4552, 0.7244, 0.497...</td>\n",
       "      <td>[0.1501, 0.275, 0.0947, 0.1866, 0.1369, 0.1148...</td>\n",
       "      <td>[0.6382, 3.4773, 0.9988, 1.3228, 0.7877, 0.589...</td>\n",
       "      <td>[0.2167, 0.3475, 0.188, 0.2124, 0.1703, 0.1481...</td>\n",
       "    </tr>\n",
       "  </tbody>\n",
       "</table>\n",
       "</div>"
      ],
      "text/plain": [
       "         seq_id                                           sequence  \\\n",
       "0  id_001f94081  GGAAAAGCUCUAAUAACAGGAGACUAGGACUACGUAUUUCUAGGUA...   \n",
       "\n",
       "                                           structure  \\\n",
       "0  .....((((((.......)))).)).((.....((..((((((......   \n",
       "\n",
       "                                           loop_type  noise sn_filter score  \\\n",
       "0  EEEEESSSSSSHHHHHHHSSSSBSSXSSIIIIISSIISSSSSSHHH...  6.894       1.0    68   \n",
       "\n",
       "                                          reactivity  \\\n",
       "0  [0.3297, 1.5693, 1.1227, 0.8686, 0.7217, 0.438...   \n",
       "\n",
       "                                        E_reactivity  \\\n",
       "0  [0.1359, 0.207, 0.1633, 0.1452, 0.1314, 0.105,...   \n",
       "\n",
       "                                             mg_ph10  \\\n",
       "0  [0.7556, 2.983, 0.2526, 1.3789, 0.6376, 0.3313...   \n",
       "\n",
       "                                           E_mg_ph10  \\\n",
       "0  [0.2613, 0.3842, 0.1372, 0.2531, 0.1798, 0.137...   \n",
       "\n",
       "                                                ph10  \\\n",
       "0  [2.3375, 3.506, 0.3008, 1.0108, 0.2635, 0.3403...   \n",
       "\n",
       "                                              E_ph10  \\\n",
       "0  [0.2631, 0.286, 0.0964, 0.1574, 0.1, 0.1019, 0...   \n",
       "\n",
       "                                              mg_c50  \\\n",
       "0  [0.3581, 2.9683, 0.2589, 1.4552, 0.7244, 0.497...   \n",
       "\n",
       "                                            E_mg_c50  \\\n",
       "0  [0.1501, 0.275, 0.0947, 0.1866, 0.1369, 0.1148...   \n",
       "\n",
       "                                                 c50  \\\n",
       "0  [0.6382, 3.4773, 0.9988, 1.3228, 0.7877, 0.589...   \n",
       "\n",
       "                                               E_c50  \n",
       "0  [0.2167, 0.3475, 0.188, 0.2124, 0.1703, 0.1481...  "
      ]
     },
     "execution_count": 6,
     "metadata": {},
     "output_type": "execute_result"
    }
   ],
   "source": [
    "print(\"Train dataset header:\")\n",
    "train_set.head(1)"
   ]
  },
  {
   "cell_type": "code",
   "execution_count": 7,
   "metadata": {},
   "outputs": [
    {
     "name": "stdout",
     "output_type": "stream",
     "text": [
      "Test dataset header:\n"
     ]
    },
    {
     "data": {
      "text/html": [
       "<div>\n",
       "<style scoped>\n",
       "    .dataframe tbody tr th:only-of-type {\n",
       "        vertical-align: middle;\n",
       "    }\n",
       "\n",
       "    .dataframe tbody tr th {\n",
       "        vertical-align: top;\n",
       "    }\n",
       "\n",
       "    .dataframe thead th {\n",
       "        text-align: right;\n",
       "    }\n",
       "</style>\n",
       "<table border=\"1\" class=\"dataframe\">\n",
       "  <thead>\n",
       "    <tr style=\"text-align: right;\">\n",
       "      <th></th>\n",
       "      <th>seq_id</th>\n",
       "      <th>sequence</th>\n",
       "      <th>structure</th>\n",
       "      <th>loop_type</th>\n",
       "      <th>score</th>\n",
       "    </tr>\n",
       "  </thead>\n",
       "  <tbody>\n",
       "    <tr>\n",
       "      <th>0</th>\n",
       "      <td>id_00073f8be</td>\n",
       "      <td>GGAAAAGUACGACUUGAGUACGGAAAACGUACCAACUCGAUUAAAA...</td>\n",
       "      <td>......((((((((((.(((((.....))))))))((((((((......</td>\n",
       "      <td>EEEEEESSSSSSSSSSBSSSSSHHHHHSSSSSSSSSSSSSSSSHHH...</td>\n",
       "      <td>68.0</td>\n",
       "    </tr>\n",
       "  </tbody>\n",
       "</table>\n",
       "</div>"
      ],
      "text/plain": [
       "         seq_id                                           sequence  \\\n",
       "0  id_00073f8be  GGAAAAGUACGACUUGAGUACGGAAAACGUACCAACUCGAUUAAAA...   \n",
       "\n",
       "                                           structure  \\\n",
       "0  ......((((((((((.(((((.....))))))))((((((((......   \n",
       "\n",
       "                                           loop_type score  \n",
       "0  EEEEEESSSSSSSSSSBSSSSSHHHHHSSSSSSSSSSSSSSSSHHH...  68.0  "
      ]
     },
     "execution_count": 7,
     "metadata": {},
     "output_type": "execute_result"
    }
   ],
   "source": [
    "print(\"Test dataset header:\")\n",
    "test_set.head(1)"
   ]
  },
  {
   "cell_type": "code",
   "execution_count": 8,
   "metadata": {},
   "outputs": [
    {
     "name": "stdout",
     "output_type": "stream",
     "text": [
      "Shape of train dataset:(2400, 17)\n",
      "Shape of test dataset:(3634, 5)\n"
     ]
    }
   ],
   "source": [
    "# Getting data size.\n",
    "print(f\"Shape of train dataset:{train_set.shape}\")\n",
    "print(f\"Shape of test dataset:{test_set.shape}\")"
   ]
  },
  {
   "cell_type": "code",
   "execution_count": 9,
   "metadata": {},
   "outputs": [
    {
     "name": "stdout",
     "output_type": "stream",
     "text": [
      "Test dataset summary:\n"
     ]
    },
    {
     "data": {
      "text/html": [
       "<div>\n",
       "<style scoped>\n",
       "    .dataframe tbody tr th:only-of-type {\n",
       "        vertical-align: middle;\n",
       "    }\n",
       "\n",
       "    .dataframe tbody tr th {\n",
       "        vertical-align: top;\n",
       "    }\n",
       "\n",
       "    .dataframe thead th {\n",
       "        text-align: right;\n",
       "    }\n",
       "</style>\n",
       "<table border=\"1\" class=\"dataframe\">\n",
       "  <thead>\n",
       "    <tr style=\"text-align: right;\">\n",
       "      <th></th>\n",
       "      <th>seq_id</th>\n",
       "      <th>sequence</th>\n",
       "      <th>structure</th>\n",
       "      <th>loop_type</th>\n",
       "      <th>score</th>\n",
       "    </tr>\n",
       "  </thead>\n",
       "  <tbody>\n",
       "    <tr>\n",
       "      <th>count</th>\n",
       "      <td>3634</td>\n",
       "      <td>3634</td>\n",
       "      <td>3634</td>\n",
       "      <td>3634</td>\n",
       "      <td>3634.0</td>\n",
       "    </tr>\n",
       "    <tr>\n",
       "      <th>unique</th>\n",
       "      <td>3634</td>\n",
       "      <td>3634</td>\n",
       "      <td>2381</td>\n",
       "      <td>2415</td>\n",
       "      <td>2.0</td>\n",
       "    </tr>\n",
       "    <tr>\n",
       "      <th>top</th>\n",
       "      <td>id_00073f8be</td>\n",
       "      <td>GGAAAAGUACGACUUGAGUACGGAAAACGUACCAACUCGAUUAAAA...</td>\n",
       "      <td>.....((((((((((.....))))))))))....((((((((((.....</td>\n",
       "      <td>EEEEESSSSSSSSSSHHHHHSSSSSSSSSSXXXXSSSSSSSSSSHH...</td>\n",
       "      <td>91.0</td>\n",
       "    </tr>\n",
       "    <tr>\n",
       "      <th>freq</th>\n",
       "      <td>1</td>\n",
       "      <td>1</td>\n",
       "      <td>175</td>\n",
       "      <td>118</td>\n",
       "      <td>3005.0</td>\n",
       "    </tr>\n",
       "  </tbody>\n",
       "</table>\n",
       "</div>"
      ],
      "text/plain": [
       "              seq_id                                           sequence  \\\n",
       "count           3634                                               3634   \n",
       "unique          3634                                               3634   \n",
       "top     id_00073f8be  GGAAAAGUACGACUUGAGUACGGAAAACGUACCAACUCGAUUAAAA...   \n",
       "freq               1                                                  1   \n",
       "\n",
       "                                                structure  \\\n",
       "count                                                3634   \n",
       "unique                                               2381   \n",
       "top     .....((((((((((.....))))))))))....((((((((((.....   \n",
       "freq                                                  175   \n",
       "\n",
       "                                                loop_type   score  \n",
       "count                                                3634  3634.0  \n",
       "unique                                               2415     2.0  \n",
       "top     EEEEESSSSSSSSSSHHHHHSSSSSSSSSSXXXXSSSSSSSSSSHH...    91.0  \n",
       "freq                                                  118  3005.0  "
      ]
     },
     "execution_count": 9,
     "metadata": {},
     "output_type": "execute_result"
    }
   ],
   "source": [
    "print(\"Test dataset summary:\")\n",
    "test_set.describe()"
   ]
  },
  {
   "cell_type": "markdown",
   "metadata": {},
   "source": [
    "Here, **for the test dataset**, the only things important to underline is that there is only 2 different `score` values."
   ]
  },
  {
   "cell_type": "code",
   "execution_count": 10,
   "metadata": {},
   "outputs": [
    {
     "name": "stdout",
     "output_type": "stream",
     "text": [
      "Train dataset summary:\n"
     ]
    },
    {
     "data": {
      "text/html": [
       "<div>\n",
       "<style scoped>\n",
       "    .dataframe tbody tr th:only-of-type {\n",
       "        vertical-align: middle;\n",
       "    }\n",
       "\n",
       "    .dataframe tbody tr th {\n",
       "        vertical-align: top;\n",
       "    }\n",
       "\n",
       "    .dataframe thead th {\n",
       "        text-align: right;\n",
       "    }\n",
       "</style>\n",
       "<table border=\"1\" class=\"dataframe\">\n",
       "  <thead>\n",
       "    <tr style=\"text-align: right;\">\n",
       "      <th></th>\n",
       "      <th>seq_id</th>\n",
       "      <th>sequence</th>\n",
       "      <th>structure</th>\n",
       "      <th>loop_type</th>\n",
       "      <th>noise</th>\n",
       "      <th>sn_filter</th>\n",
       "      <th>score</th>\n",
       "      <th>reactivity</th>\n",
       "      <th>E_reactivity</th>\n",
       "      <th>mg_ph10</th>\n",
       "      <th>E_mg_ph10</th>\n",
       "      <th>ph10</th>\n",
       "      <th>E_ph10</th>\n",
       "      <th>mg_c50</th>\n",
       "      <th>E_mg_c50</th>\n",
       "      <th>c50</th>\n",
       "      <th>E_c50</th>\n",
       "    </tr>\n",
       "  </thead>\n",
       "  <tbody>\n",
       "    <tr>\n",
       "      <th>count</th>\n",
       "      <td>2400</td>\n",
       "      <td>2400</td>\n",
       "      <td>2400</td>\n",
       "      <td>2400</td>\n",
       "      <td>2400.0</td>\n",
       "      <td>2400.0</td>\n",
       "      <td>2400</td>\n",
       "      <td>2400</td>\n",
       "      <td>2400</td>\n",
       "      <td>2400</td>\n",
       "      <td>2400</td>\n",
       "      <td>2400</td>\n",
       "      <td>2400</td>\n",
       "      <td>2400</td>\n",
       "      <td>2400</td>\n",
       "      <td>2400</td>\n",
       "      <td>2400</td>\n",
       "    </tr>\n",
       "    <tr>\n",
       "      <th>unique</th>\n",
       "      <td>2400</td>\n",
       "      <td>2400</td>\n",
       "      <td>1507</td>\n",
       "      <td>1530</td>\n",
       "      <td>2037.0</td>\n",
       "      <td>2.0</td>\n",
       "      <td>1</td>\n",
       "      <td>2400</td>\n",
       "      <td>2400</td>\n",
       "      <td>2400</td>\n",
       "      <td>2400</td>\n",
       "      <td>2400</td>\n",
       "      <td>2400</td>\n",
       "      <td>2400</td>\n",
       "      <td>2400</td>\n",
       "      <td>2400</td>\n",
       "      <td>2400</td>\n",
       "    </tr>\n",
       "    <tr>\n",
       "      <th>top</th>\n",
       "      <td>id_001f94081</td>\n",
       "      <td>GGAAAAGCUCUAAUAACAGGAGACUAGGACUACGUAUUUCUAGGUA...</td>\n",
       "      <td>.................................................</td>\n",
       "      <td>EEEEEEEEEEEEEEEEEEEEEEEEEEEEEEEEEEEEEEEEEEEEEE...</td>\n",
       "      <td>0.0</td>\n",
       "      <td>1.0</td>\n",
       "      <td>68</td>\n",
       "      <td>[0.3297, 1.5693, 1.1227, 0.8686, 0.7217, 0.438...</td>\n",
       "      <td>[0.1359, 0.207, 0.1633, 0.1452, 0.1314, 0.105,...</td>\n",
       "      <td>[0.7556, 2.983, 0.2526, 1.3789, 0.6376, 0.3313...</td>\n",
       "      <td>[0.2613, 0.3842, 0.1372, 0.2531, 0.1798, 0.137...</td>\n",
       "      <td>[2.3375, 3.506, 0.3008, 1.0108, 0.2635, 0.3403...</td>\n",
       "      <td>[0.2631, 0.286, 0.0964, 0.1574, 0.1, 0.1019, 0...</td>\n",
       "      <td>[0.3581, 2.9683, 0.2589, 1.4552, 0.7244, 0.497...</td>\n",
       "      <td>[0.1501, 0.275, 0.0947, 0.1866, 0.1369, 0.1148...</td>\n",
       "      <td>[0.6382, 3.4773, 0.9988, 1.3228, 0.7877, 0.589...</td>\n",
       "      <td>[0.2167, 0.3475, 0.188, 0.2124, 0.1703, 0.1481...</td>\n",
       "    </tr>\n",
       "    <tr>\n",
       "      <th>freq</th>\n",
       "      <td>1</td>\n",
       "      <td>1</td>\n",
       "      <td>278</td>\n",
       "      <td>278</td>\n",
       "      <td>95.0</td>\n",
       "      <td>1589.0</td>\n",
       "      <td>2400</td>\n",
       "      <td>1</td>\n",
       "      <td>1</td>\n",
       "      <td>1</td>\n",
       "      <td>1</td>\n",
       "      <td>1</td>\n",
       "      <td>1</td>\n",
       "      <td>1</td>\n",
       "      <td>1</td>\n",
       "      <td>1</td>\n",
       "      <td>1</td>\n",
       "    </tr>\n",
       "  </tbody>\n",
       "</table>\n",
       "</div>"
      ],
      "text/plain": [
       "              seq_id                                           sequence  \\\n",
       "count           2400                                               2400   \n",
       "unique          2400                                               2400   \n",
       "top     id_001f94081  GGAAAAGCUCUAAUAACAGGAGACUAGGACUACGUAUUUCUAGGUA...   \n",
       "freq               1                                                  1   \n",
       "\n",
       "                                                structure  \\\n",
       "count                                                2400   \n",
       "unique                                               1507   \n",
       "top     .................................................   \n",
       "freq                                                  278   \n",
       "\n",
       "                                                loop_type   noise  sn_filter  \\\n",
       "count                                                2400  2400.0     2400.0   \n",
       "unique                                               1530  2037.0        2.0   \n",
       "top     EEEEEEEEEEEEEEEEEEEEEEEEEEEEEEEEEEEEEEEEEEEEEE...     0.0        1.0   \n",
       "freq                                                  278    95.0     1589.0   \n",
       "\n",
       "        score                                         reactivity  \\\n",
       "count    2400                                               2400   \n",
       "unique      1                                               2400   \n",
       "top        68  [0.3297, 1.5693, 1.1227, 0.8686, 0.7217, 0.438...   \n",
       "freq     2400                                                  1   \n",
       "\n",
       "                                             E_reactivity  \\\n",
       "count                                                2400   \n",
       "unique                                               2400   \n",
       "top     [0.1359, 0.207, 0.1633, 0.1452, 0.1314, 0.105,...   \n",
       "freq                                                    1   \n",
       "\n",
       "                                                  mg_ph10  \\\n",
       "count                                                2400   \n",
       "unique                                               2400   \n",
       "top     [0.7556, 2.983, 0.2526, 1.3789, 0.6376, 0.3313...   \n",
       "freq                                                    1   \n",
       "\n",
       "                                                E_mg_ph10  \\\n",
       "count                                                2400   \n",
       "unique                                               2400   \n",
       "top     [0.2613, 0.3842, 0.1372, 0.2531, 0.1798, 0.137...   \n",
       "freq                                                    1   \n",
       "\n",
       "                                                     ph10  \\\n",
       "count                                                2400   \n",
       "unique                                               2400   \n",
       "top     [2.3375, 3.506, 0.3008, 1.0108, 0.2635, 0.3403...   \n",
       "freq                                                    1   \n",
       "\n",
       "                                                   E_ph10  \\\n",
       "count                                                2400   \n",
       "unique                                               2400   \n",
       "top     [0.2631, 0.286, 0.0964, 0.1574, 0.1, 0.1019, 0...   \n",
       "freq                                                    1   \n",
       "\n",
       "                                                   mg_c50  \\\n",
       "count                                                2400   \n",
       "unique                                               2400   \n",
       "top     [0.3581, 2.9683, 0.2589, 1.4552, 0.7244, 0.497...   \n",
       "freq                                                    1   \n",
       "\n",
       "                                                 E_mg_c50  \\\n",
       "count                                                2400   \n",
       "unique                                               2400   \n",
       "top     [0.1501, 0.275, 0.0947, 0.1866, 0.1369, 0.1148...   \n",
       "freq                                                    1   \n",
       "\n",
       "                                                      c50  \\\n",
       "count                                                2400   \n",
       "unique                                               2400   \n",
       "top     [0.6382, 3.4773, 0.9988, 1.3228, 0.7877, 0.589...   \n",
       "freq                                                    1   \n",
       "\n",
       "                                                    E_c50  \n",
       "count                                                2400  \n",
       "unique                                               2400  \n",
       "top     [0.2167, 0.3475, 0.188, 0.2124, 0.1703, 0.1481...  \n",
       "freq                                                    1  "
      ]
     },
     "execution_count": 10,
     "metadata": {},
     "output_type": "execute_result"
    }
   ],
   "source": [
    "print(\"Train dataset summary:\")\n",
    "train_set.describe()"
   ]
  },
  {
   "cell_type": "markdown",
   "metadata": {},
   "source": [
    "Here, **for the test dataset**, the only things important to underline is that there is only 1 different `score` value, 2 different `sn_filter` values and `reactivity` values with `tests conditions` are all unique (as far as there are all `numpy array`)."
   ]
  },
  {
   "cell_type": "code",
   "execution_count": 11,
   "metadata": {},
   "outputs": [
    {
     "name": "stdout",
     "output_type": "stream",
     "text": [
      "Is there NAN in test dataset: False\n",
      "Is there NAN in train dataset: False\n"
     ]
    }
   ],
   "source": [
    "print(\"Is there NAN in test dataset:\", test_set.isnull().values.any())\n",
    "print(\"Is there NAN in train dataset:\", train_set.isnull().values.any())"
   ]
  },
  {
   "cell_type": "markdown",
   "metadata": {},
   "source": [
    "Here, no `NAN` values have been found, so no data lines/columns have to be removed."
   ]
  },
  {
   "cell_type": "markdown",
   "metadata": {},
   "source": [
    "### Checking correlation"
   ]
  },
  {
   "cell_type": "code",
   "execution_count": 12,
   "metadata": {},
   "outputs": [],
   "source": [
    "def mean_vector(label) -> np.array:\n",
    "    mean_vector = []\n",
    "    \n",
    "    for vector in train_set.loc[:, label]:\n",
    "        mean_vector += [np.mean(vector)]\n",
    "    \n",
    "    return np.array(mean_vector)"
   ]
  },
  {
   "cell_type": "code",
   "execution_count": 19,
   "metadata": {},
   "outputs": [
    {
     "name": "stdout",
     "output_type": "stream",
     "text": [
      "                 mean_reactivity  mean_mg_ph10  mean_ph10  mean_mg_c50  \\\n",
      "mean_reactivity            1.000         0.625      0.574        0.644   \n",
      "mean_mg_ph10               0.625         1.000      0.587        0.723   \n",
      "mean_ph10                  0.574         0.587      1.000        0.647   \n",
      "mean_mg_c50                0.644         0.723      0.647        1.000   \n",
      "mean_c50                   0.586         0.576      0.664        0.722   \n",
      "sn_filter                  0.048         0.166      0.005        0.053   \n",
      "score                        NaN           NaN        NaN          NaN   \n",
      "noise                      0.190         0.275      0.045        0.105   \n",
      "\n",
      "                 mean_c50  sn_filter  score  noise  \n",
      "mean_reactivity     0.586      0.048    NaN  0.190  \n",
      "mean_mg_ph10        0.576      0.166    NaN  0.275  \n",
      "mean_ph10           0.664      0.005    NaN  0.045  \n",
      "mean_mg_c50         0.722      0.053    NaN  0.105  \n",
      "mean_c50            1.000      0.004    NaN  0.058  \n",
      "sn_filter           0.004      1.000    NaN  0.430  \n",
      "score                 NaN        NaN    NaN    NaN  \n",
      "noise               0.058      0.430    NaN  1.000  \n"
     ]
    },
    {
     "data": {
      "image/png": "[encoded data removed]",
      "text/plain": [
       "<Figure size 640x480 with 1 Axes>"
      ]
     },
     "metadata": {},
     "output_type": "display_data"
    },
    {
     "data": {
      "image/png": "[encoded data removed]",
      "text/plain": [
       "<Figure size 640x480 with 1 Axes>"
      ]
     },
     "metadata": {},
     "output_type": "display_data"
    }
   ],
   "source": [
    "%matplotlib inline\n",
    "\n",
    "# Mean vector.\n",
    "mean_reactivity = mean_vector(\"reactivity\")\n",
    "mean_mg_ph10 = mean_vector(\"mg_ph10\")\n",
    "mean_ph10 = mean_vector(\"ph10\")\n",
    "mean_mg_c50 = mean_vector(\"mg_c50\")\n",
    "mean_c50 = mean_vector(\"c50\")\n",
    "# Extract simple data.\n",
    "sn_filter = train_set.loc[:, \"sn_filter\"].astype(float)\n",
    "score = train_set.loc[:, \"score\"].astype(float)\n",
    "noise = train_set.loc[:, \"noise\"].astype(float)\n",
    "\n",
    "# Transforming data in dataframe.\n",
    "\n",
    "# Dataframing the train dataset.\n",
    "col = [\n",
    "    \"mean_reactivity\",\n",
    "    \"mean_mg_ph10\",\n",
    "    \"mean_ph10\",\n",
    "    \"mean_mg_c50\",\n",
    "    \"mean_c50\",\n",
    "    \"sn_filter\",\n",
    "    \"score\",\n",
    "    \"noise\"\n",
    "]\n",
    "\n",
    "matrix = np.array([mean_reactivity, mean_mg_ph10, mean_ph10, mean_mg_c50,\n",
    "                   mean_c50, sn_filter, score, noise]).transpose()\n",
    "\n",
    "dataframe = pd.DataFrame(matrix, columns=col)\n",
    "\n",
    "# Calculating correlation.\n",
    "correlation = dataframe.corr()\n",
    "\n",
    "print(np.round(correlation, 3))\n",
    "\n",
    "# Plotting one example.\n",
    "plot.scatter(mean_reactivity, mean_ph10)\n",
    "plot.xlabel(\"mean_reactivity\")\n",
    "plot.ylabel(\"train_set.loc[:, \\\"score\\\"]\")\n",
    "plot.show()\n",
    "\n",
    "# Plotting one example.\n",
    "plot.scatter(mean_mg_c50, mean_c50)\n",
    "plot.xlabel(\"mean_reactivity\")\n",
    "plot.ylabel(\"train_set.loc[:, \\\"score\\\"]\")\n",
    "plot.show()"
   ]
  },
  {
   "cell_type": "markdown",
   "metadata": {},
   "source": [
    "Here, we found that some correlation between Y values/values to predict. But it's look like it's manly due to the fact that, when data are plot, there are concentrated in \"one zone\". For instance, for the plot up there, we see that data are gather between `X = [0, 0.75]` and `Y = [0, 1]`.\n",
    "\n",
    "> **NOTE :** The score, when correlated, return `NAN` values. It's due to the fact that all score values are equal. So the covariance is `0`, so r is `NAN` (division by 0)."
   ]
  },
  {
   "cell_type": "code",
   "execution_count": 41,
   "metadata": {},
   "outputs": [
    {
     "data": {
      "text/plain": [
       "<AxesSubplot:>"
      ]
     },
     "execution_count": 41,
     "metadata": {},
     "output_type": "execute_result"
    },
    {
     "data": {
      "image/png": "[encoded data removed]",
      "text/plain": [
       "<Figure size 640x480 with 2 Axes>"
      ]
     },
     "metadata": {},
     "output_type": "display_data"
    }
   ],
   "source": [
    "%matplotlib inline\n",
    "# Correlation plot between Y values.\n",
    "heatmap(correlation)"
   ]
  },
  {
   "cell_type": "code",
   "execution_count": 54,
   "metadata": {},
   "outputs": [
    {
     "data": {
      "image/png": "[encoded data removed]",
      "text/plain": [
       "<Figure size 640x480 with 1 Axes>"
      ]
     },
     "metadata": {},
     "output_type": "display_data"
    }
   ],
   "source": [
    "%matplotlib inline\n",
    "\n",
    "hist = plot.hist(mean_reactivity, color=\"green\", edgecolor=\"white\")\n",
    "plot.show()\n",
    "\n",
    "# Loi uniforme pour répartir les points pour les shifts de l'axe X: en gros -> \n",
    "# on décale l'alignement sur 1 pour faire entre 1 +- U[0, 1]."
   ]
  },
  {
   "cell_type": "code",
   "execution_count": 88,
   "metadata": {},
   "outputs": [
    {
     "data": {
      "image/png": "[encoded data removed]",
      "text/plain": [
       "<Figure size 640x480 with 1 Axes>"
      ]
     },
     "metadata": {},
     "output_type": "display_data"
    }
   ],
   "source": [
    "%matplotlib inline\n",
    "\n",
    "violin = plot.violinplot(mean_reactivity, [2], showmeans=False, showmedians=False,\n",
    "                         showextrema=False, points=100)\n",
    "\n",
    "for part in violin[\"bodies\"]:\n",
    "    part.set_facecolor(\"#007F14\")\n",
    "    # get the center\n",
    "    m = np.mean(part.get_paths()[0].vertices[:, 0])\n",
    "    # modify the paths to not go further left than the center\n",
    "    part.get_paths()[0].vertices[:, 0] = np.clip(\n",
    "        part.get_paths()[0].vertices[:, 0], -np.inf, m)\n",
    "\n",
    "plot.show()\n"
   ]
  },
  {
   "cell_type": "code",
   "execution_count": 86,
   "metadata": {},
   "outputs": [
    {
     "data": {
      "image/png": "[encoded data removed]",
      "text/plain": [
       "<Figure size 640x480 with 3 Axes>"
      ]
     },
     "metadata": {},
     "output_type": "display_data"
    }
   ],
   "source": [
    "import matplotlib.pyplot as plt\n",
    "\n",
    "# data prep (I made up data no accuracy in these stats)\n",
    "mobile = ['Iphone','Galaxy','Pixel']\n",
    "\n",
    "# Data for the mobile units sold for 4 Quaters in Million\n",
    "units_sold = (('2016',12,8,6),\n",
    "('2017',14,10,7),\n",
    "('2018',16,12,8),\n",
    "('2019',18,14,10),\n",
    "('2020',20,16,5),)\n",
    "# data prep - splitting the data\n",
    "Years, IPhone_Sales, Galaxy_Sales, Pixel_Sales = zip(*units_sold)\n",
    "\n",
    "# set the position\n",
    "Position = list(range(len(units_sold)))\n",
    "\n",
    "# set the width\n",
    "Width = 0.2\n",
    "\n",
    "plt.subplot(2, 1, 1)\n",
    "Iphone = plt.bar(Position, IPhone_Sales,color='green')\n",
    "plt.ylabel('IPhone Sales')\n",
    "plt.xticks(Position, Years)\n",
    "\n",
    "plt.twinx()\n",
    "Galaxy = plt.plot(Position, Galaxy_Sales, 'o-', color='blue')\n",
    "plt.ylabel('Galaxy Sales')\n",
    "plt.xticks(Position, Years)\n",
    "\n",
    "plt.subplot(2, 1, 2)\n",
    "plt.plot(Position, Pixel_Sales, color='yellow')\n",
    "plt.ylabel('Pixel Sales')\n",
    "plt.gca().set_ylim(ymin=0)\n",
    "plt.xticks(Position, Years)\n",
    "\n",
    "plt.show()"
   ]
  },
  {
   "cell_type": "markdown",
   "metadata": {},
   "source": [
    "## Conclusions\n",
    "\n",
    "It's look like there's correlation between the different degradation probabilities conditions. Thus, it's not looking abnormal due to the fact that conditions are very similar (and adding conditions increases the probability, so there's still a link). However, those correlations are on \\[Y\\] data/the one that have to be predicted.\n",
    "\n",
    "Else, nothing wrong have been underlined by those quick analyses."
   ]
  }
 ],
 "metadata": {
  "kernelspec": {
   "display_name": "Python 3.10.4 ('module_aiao')",
   "language": "python",
   "name": "python3"
  },
  "language_info": {
   "codemirror_mode": {
    "name": "ipython",
    "version": 3
   },
   "file_extension": ".py",
   "mimetype": "text/x-python",
   "name": "python",
   "nbconvert_exporter": "python",
   "pygments_lexer": "ipython3",
   "version": "3.10.4"
  },
  "orig_nbformat": 4,
  "vscode": {
   "interpreter": {
    "hash": "53c93c1df5cf6fba47dd693505ac8e7519e782f51bb4776aa5f3bbcec8cd56b0"
   }
  }
 },
 "nbformat": 4,
 "nbformat_minor": 2
}
